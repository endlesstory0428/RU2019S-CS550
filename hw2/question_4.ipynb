{
 "cells": [
  {
   "cell_type": "code",
   "execution_count": 1,
   "metadata": {},
   "outputs": [
    {
     "name": "stdout",
     "output_type": "stream",
     "text": [
      "Starting Spark application\n"
     ]
    },
    {
     "data": {
      "text/html": [
       "<table>\n",
       "<tr><th>ID</th><th>YARN Application ID</th><th>Kind</th><th>State</th><th>Spark UI</th><th>Driver log</th><th>Current session?</th></tr><tr><td>845</td><td>application_1551670200070_0157</td><td>pyspark</td><td>idle</td><td><a target=\"_blank\" href=\"http://data-services3.cs.rutgers.edu:8088/proxy/application_1551670200070_0157/\">Link</a></td><td><a target=\"_blank\" href=\"http://data3.cs.rutgers.edu:8042/node/containerlogs/container_e68_1551670200070_0157_01_000001/hz333\">Link</a></td><td>✔</td></tr></table>"
      ],
      "text/plain": [
       "<IPython.core.display.HTML object>"
      ]
     },
     "metadata": {},
     "output_type": "display_data"
    },
    {
     "name": "stdout",
     "output_type": "stream",
     "text": [
      "SparkSession available as 'spark'.\n"
     ]
    }
   ],
   "source": [
    "#get pos\n",
    "def getPoint(line):\n",
    "\tpos = line.split(' ')\n",
    "\treturn [float(pos[i]) for i in range(58)]\n",
    "\n",
    "#square(dist)\n",
    "def dist2(u, v):\n",
    "\td2 = 0\n",
    "\tfor i in range(58):\n",
    "\t\td2 = d2 + (u[i] - v[i]) ** 2\n",
    "\treturn d2\n",
    "\n",
    "#compute mean(pos)\n",
    "def sumPos(u, v):\n",
    "\treturn [u[i] + v[i] for i in range(58)]\n",
    "\n",
    "def meanPos(sumP, count):\n",
    "\treturn [sumP[i] / count for i in range(58)]\n",
    "\n",
    "#classify points\n",
    "class cluster(object):\n",
    "\tdef __init__(self, c, dist2):\n",
    "\t\tself.c = c\n",
    "\t\tself.dist2 = dist2\n",
    "\t\treturn\n",
    "\n",
    "\tdef __call__(self, p):\n",
    "\t\tminD2 = float('inf')\n",
    "\t\tindex = 10\n",
    "\t\tfor i in range(10):\n",
    "\t\t\td2 = self.dist2(self.c[i], p)\n",
    "\t\t\tif d2 < minD2:\n",
    "\t\t\t\tindex = i\n",
    "\t\t\t\tminD2 = d2\n",
    "\t\treturn (index, (p, minD2, 1))\n",
    "\n",
    "\tdef update(self, IPDC):\n",
    "\t\tsumDist = 0\n",
    "\t\tfor index, PDC in IPDC:\n",
    "\t\t\tpos, dist, count = PDC\n",
    "\t\t\tself.c[index] = meanPos(pos, count)\n",
    "\t\t\tsumDist = sumDist + dist\n",
    "\t\treturn sumDist\n",
    "\n",
    "#get info of clusters\n",
    "def reCenter(u, v):\n",
    "\tuP, uD2, uCount = u\n",
    "\tvP, vD2, vCount = v\n",
    "\treturn (sumPos(uP, vP), uD2 + vD2, uCount + vCount)"
   ]
  },
  {
   "cell_type": "code",
   "execution_count": 4,
   "metadata": {},
   "outputs": [],
   "source": [
    "data = sc.textFile('/user/hz333/data/hw2/Q4/data.txt')\n",
    "c = sc.textFile('/user/hz333/data/hw2/Q4/c1.txt') #if use c2.txt, change here\n",
    "\n",
    "pos = data.map(getPoint)\n",
    "c = c.map(getPoint)\n",
    "c = c.collect()\n",
    "\n",
    "classify = cluster(c, dist2)\n",
    "\n",
    "dist = []\n",
    "for i in range(20):\n",
    "\t#(classIndex, (pos, dist, 1))\n",
    "\tres = pos.map(classify)\n",
    "\tres = res.reduceByKey(reCenter)\n",
    "\tres = res.collect()\n",
    "\tdist.append(classify.update(res))"
   ]
  },
  {
   "cell_type": "code",
   "execution_count": 5,
   "metadata": {},
   "outputs": [
    {
     "name": "stdout",
     "output_type": "stream",
     "text": [
      "1: 623660345.306\n",
      "2: 509862908.298\n",
      "3: 485480681.872\n",
      "4: 463997011.685\n",
      "5: 460969266.573\n",
      "6: 460537847.983\n",
      "7: 460313099.654\n",
      "8: 460003523.889\n",
      "9: 459570539.318\n",
      "10: 459021103.342\n",
      "11: 458490656.192\n",
      "12: 457944232.588\n",
      "13: 457558005.199\n",
      "14: 457290136.352\n",
      "15: 457050555.060\n",
      "16: 456892235.615\n",
      "17: 456703630.737\n",
      "18: 456404203.019\n",
      "19: 456177800.542\n",
      "20: 455986871.027"
     ]
    }
   ],
   "source": [
    "for i in range(20):\n",
    "\tprint('%d: %.3f' %(i+1, dist[i]))"
   ]
  }
 ],
 "metadata": {
  "kernelspec": {
   "display_name": "PySpark",
   "language": "",
   "name": "pysparkkernel"
  },
  "language_info": {
   "codemirror_mode": {
    "name": "python",
    "version": 2
   },
   "mimetype": "text/x-python",
   "name": "pyspark",
   "pygments_lexer": "python2"
  }
 },
 "nbformat": 4,
 "nbformat_minor": 2
}
