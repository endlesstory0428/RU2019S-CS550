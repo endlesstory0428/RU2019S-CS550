{
 "cells": [
  {
   "cell_type": "code",
   "execution_count": 1,
   "metadata": {},
   "outputs": [
    {
     "name": "stdout",
     "output_type": "stream",
     "text": [
      "Starting Spark application\n"
     ]
    },
    {
     "data": {
      "text/html": [
       "<table>\n",
       "<tr><th>ID</th><th>YARN Application ID</th><th>Kind</th><th>State</th><th>Spark UI</th><th>Driver log</th><th>Current session?</th></tr><tr><td>640</td><td>application_1548171028063_0192</td><td>pyspark</td><td>idle</td><td><a target=\"_blank\" href=\"http://data-services3.cs.rutgers.edu:8088/proxy/application_1548171028063_0192/\">Link</a></td><td><a target=\"_blank\" href=\"http://data3.cs.rutgers.edu:8042/node/containerlogs/container_e67_1548171028063_0192_01_000001/hz333\">Link</a></td><td>✔</td></tr></table>"
      ],
      "text/plain": [
       "<IPython.core.display.HTML object>"
      ]
     },
     "metadata": {},
     "output_type": "display_data"
    },
    {
     "name": "stdout",
     "output_type": "stream",
     "text": [
      "SparkSession available as 'spark'.\n"
     ]
    }
   ],
   "source": [
    "import itertools\n",
    "\n",
    "#split line\n",
    "def getItemList(line):\n",
    "\titemList = line.split(' ')\n",
    "\treturn itemList[: -1]\n",
    "\n",
    "#count item\n",
    "def getItem(itemList):\n",
    "\titem = [(i, 1) for i in itemList]\n",
    "\treturn item\n",
    "\n",
    "def getNum(tN, nN):\n",
    "\treturn tN + nN\n",
    "\n",
    "#filter support\n",
    "class checkVal(object):\n",
    "\tdef __init__(self, threshold):\n",
    "\t\tself.threshold = threshold\n",
    "\t\treturn\n",
    "\n",
    "\tdef __call__(self, data):\n",
    "\t\titem, num = data\n",
    "\t\treturn num >= self.threshold\n",
    "\n",
    "#save frequent\n",
    "class freqFilter(object):\n",
    "\tdef __init__(self, freqNum):\n",
    "\t\tself.freqDict = dict(freqNum)\n",
    "\t\tself.freqSet = frozenset(self.freqDict.keys())\n",
    "\t\treturn\n",
    "\n",
    "\tdef __call__(self, itemList):\n",
    "\t\treturn list(frozenset(itemList) & self.freqSet)\n",
    "\n",
    "#use item generate pair\n",
    "def getPair(itemList):\n",
    "\tpairList = []\n",
    "\tfor pair in itertools.combinations(itemList, 2):\n",
    "\t\tpair = tuple(sorted(pair)) #(u, v), u < v\n",
    "\t\tpairList.append((pair, 1))\n",
    "\treturn pairList\n",
    "\n",
    "#1 pair -> 2 rules\n",
    "class getPairConf(object):\n",
    "\tdef __init__(self, freqF):\n",
    "\t\tself.freqDict = freqF.freqDict\n",
    "\t\treturn\n",
    "\n",
    "\tdef __call__(self, data):\n",
    "\t\tpair, num = data\n",
    "\t\tu, v = pair\n",
    "\t\treturn [((u, v), num/self.freqDict[u]), ((v, u), num/self.freqDict[v])]\n",
    "\n",
    "#str(data)\n",
    "def getPairRule(pairRuleList, ruleNum):\n",
    "\tpairRuleList.sort(key = lambda pRule: (-pRule[1], pRule[0][0]))\n",
    "\tfor line in pairRuleList[: ruleNum]:\n",
    "\t\tpair, num = line\n",
    "\t\tu, v = pair\n",
    "\t\tprint(u + ' -> ' + v + ': ' + '%.3f' %num)\n",
    "\treturn pairRuleList[: ruleNum]\n",
    "\n",
    "#use item generate triple, use pair to check\n",
    "class getTrip(object):\n",
    "\tdef __init__(self, freqF):\n",
    "\t\tself.freqSet = freqF.freqSet\n",
    "\t\treturn\n",
    "\n",
    "\tdef __call__(self, itemList):\n",
    "\t\ttripList = []\n",
    "\t\tfor trip in itertools.combinations(itemList, 3):\n",
    "\t\t\ttrip = tuple(sorted(trip)) #(u, v, w), u < v < w\n",
    "\t\t\tif self._checkPair(trip):\n",
    "\t\t\t\ttripList.append((trip, 1))\n",
    "\t\treturn tripList\n",
    "\n",
    "\tdef _checkPair(self, trip):\n",
    "\t\tfor pair in itertools.combinations(trip, 2):\n",
    "\t\t\tif pair not in self.freqSet:\n",
    "\t\t\t\treturn False\n",
    "\t\treturn True\n",
    "\n",
    "#1 triple -> 3 rules\n",
    "class getTripConf(object):\n",
    "\tdef __init__(self, freqF):\n",
    "\t\tself.freqDict = freqF.freqDict\n",
    "\t\treturn\n",
    "\n",
    "\tdef __call__(self, data):\n",
    "\t\ttrip, num = data\n",
    "\t\treturn [((sTrip[0], sTrip[1]), num/self.freqDict[sTrip[0]]) for sTrip in self._splitTrip(trip)]\n",
    "\n",
    "\tdef _splitTrip(self, trip):\n",
    "\t\tu, v, w = trip\n",
    "\t\treturn [((u, v), w), ((u, w), v), ((v, w), u)]\n",
    "\n",
    "#str(data)\n",
    "def getTripRule(tripRuleList, ruleNum):\n",
    "\ttripRuleList.sort(key = lambda tRule: (-tRule[1], tRule[0][0][0], tRule[0][0][1]))\n",
    "\tfor line in tripRuleList[: ruleNum]:\n",
    "\t\ttrip, num = line\n",
    "\t\tpair, w = trip\n",
    "\t\tu, v = pair\n",
    "\t\tprint(u + ' + ' + v + ' -> ' + w + ': ' + '%.3f' %num)\n",
    "\treturn tripRuleList[: ruleNum]"
   ]
  },
  {
   "cell_type": "code",
   "execution_count": 2,
   "metadata": {},
   "outputs": [],
   "source": [
    "data = sc.textFile('/user/hz333/data/hw1/Q2/browsing.txt')\n",
    "\n",
    "#all items\n",
    "line = data.map(getItemList)\n",
    "\n",
    "#get freq items\n",
    "item = line.flatMap(getItem)\n",
    "itemNum = item.reduceByKey(getNum)\n",
    "itemNum = itemNum.filter(checkVal(100))\n",
    "\n",
    "#save freq items\n",
    "freqItemNum = itemNum.collect() #hopefully it is not large #Yes it is not large, len < 1000\n",
    "itemF = freqFilter(freqItemNum)\n",
    "\n",
    "#freq items\n",
    "line = line.map(itemF)\n",
    "\n",
    "#get pair candidates\n",
    "pair = line.flatMap(getPair)\n",
    "\n",
    "#get freq pairs\n",
    "pairNum = pair.reduceByKey(getNum)\n",
    "pairNum = pairNum.filter(checkVal(100))"
   ]
  },
  {
   "cell_type": "code",
   "execution_count": 3,
   "metadata": {},
   "outputs": [],
   "source": [
    "#save freq pairs\n",
    "freqPairNum = pairNum.collect()\n",
    "pairF = freqFilter(freqPairNum)\n",
    "\n",
    "#get triple candidates\n",
    "trip = line.flatMap(getTrip(pairF))\n",
    "\n",
    "#get freq triples\n",
    "tripNum = trip.reduceByKey(getNum)\n",
    "tripNum = tripNum.filter(checkVal(100))"
   ]
  },
  {
   "cell_type": "code",
   "execution_count": 4,
   "metadata": {},
   "outputs": [
    {
     "name": "stdout",
     "output_type": "stream",
     "text": [
      "DAI93865 -> FRO40251: 1.000\n",
      "GRO85051 -> FRO40251: 0.999\n",
      "GRO38636 -> FRO40251: 0.991\n",
      "ELE12951 -> FRO40251: 0.991\n",
      "DAI88079 -> FRO40251: 0.987"
     ]
    }
   ],
   "source": [
    "#get pair confidence\n",
    "pairConf = pairNum.flatMap(getPairConf(itemF))\n",
    "pairRule = pairConf.filter(checkVal(0.9)) #hopefully there are at least 5 lines\n",
    "pairRule = pairRule.collect()\n",
    "\n",
    "#output\n",
    "pairRule = getPairRule(pairRule, 5)"
   ]
  },
  {
   "cell_type": "code",
   "execution_count": 10,
   "metadata": {},
   "outputs": [
    {
     "name": "stdout",
     "output_type": "stream",
     "text": [
      "DAI23334 + ELE92920 -> DAI62779: 1.000\n",
      "DAI31081 + GRO85051 -> FRO40251: 1.000\n",
      "DAI55911 + GRO85051 -> FRO40251: 1.000\n",
      "DAI62779 + DAI88079 -> FRO40251: 1.000\n",
      "DAI75645 + GRO85051 -> FRO40251: 1.000"
     ]
    }
   ],
   "source": [
    "#get triple confidence\n",
    "tripConf = tripNum.flatMap(getTripConf(pairF))\n",
    "tripRule = tripConf.filter(checkVal(0.9)) #hopefully there are at least 5 lines\n",
    "tripRule = tripRule.collect()\n",
    "\n",
    "#output\n",
    "tripRule = getTripRule(tripRule, 5)"
   ]
  },
  {
   "cell_type": "code",
   "execution_count": 11,
   "metadata": {},
   "outputs": [],
   "source": [
    "sc.stop()"
   ]
  }
 ],
 "metadata": {
  "kernelspec": {
   "display_name": "PySpark",
   "language": "",
   "name": "pysparkkernel"
  },
  "language_info": {
   "codemirror_mode": {
    "name": "python",
    "version": 2
   },
   "mimetype": "text/x-python",
   "name": "pyspark",
   "pygments_lexer": "python2"
  }
 },
 "nbformat": 4,
 "nbformat_minor": 2
}
