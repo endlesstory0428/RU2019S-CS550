{
 "cells": [
  {
   "cell_type": "code",
   "execution_count": 1,
   "metadata": {},
   "outputs": [
    {
     "name": "stdout",
     "output_type": "stream",
     "text": [
      "Starting Spark application\n"
     ]
    },
    {
     "data": {
      "text/html": [
       "<table>\n",
       "<tr><th>ID</th><th>YARN Application ID</th><th>Kind</th><th>State</th><th>Spark UI</th><th>Driver log</th><th>Current session?</th></tr><tr><td>842</td><td>application_1551670200070_0154</td><td>pyspark</td><td>idle</td><td><a target=\"_blank\" href=\"http://data-services3.cs.rutgers.edu:8088/proxy/application_1551670200070_0154/\">Link</a></td><td><a target=\"_blank\" href=\"http://data2.cs.rutgers.edu:8042/node/containerlogs/container_e68_1551670200070_0154_01_000001/hz333\">Link</a></td><td>✔</td></tr></table>"
      ],
      "text/plain": [
       "<IPython.core.display.HTML object>"
      ]
     },
     "metadata": {},
     "output_type": "display_data"
    },
    {
     "name": "stdout",
     "output_type": "stream",
     "text": [
      "SparkSession available as 'spark'.\n"
     ]
    }
   ],
   "source": [
    "#get edge (no duplicated edge)\n",
    "def getEdgeCount(line):\n",
    "\tu, v = line.split('\\t')\n",
    "\treturn ((u, v), 1)\n",
    "\n",
    "def count(a, b):\n",
    "\treturn a + b\n",
    "\n",
    "def getEdge(line):\n",
    "\tedge, count = line\n",
    "\treturn edge\n",
    "\n",
    "#get out degree\n",
    "def getUCount(edge):\n",
    "\tu, v = edge\n",
    "\treturn (u, 1)\n",
    "\n",
    "class weight(object):\n",
    "\tdef __init__(self, uCount):\n",
    "\t\tself.uCount = dict(uCount)\n",
    "\t\treturn\n",
    "\n",
    "\tdef __call__(self, edge):\n",
    "\t\tu, v = edge\n",
    "\t\treturn (u, (v, self.uCount[u]))\n",
    "\n",
    "#a step of random walk\n",
    "class trans(object):\n",
    "\tdef __init__(self, r, beta = 0.8):\n",
    "\t\tself.r = dict(r)\n",
    "\t\tself.beta = beta\n",
    "\t\tself.nBeta = 1 - beta\n",
    "\t\treturn\n",
    "\n",
    "\tdef __call__(self, edgeW):\n",
    "\t\tu, vW = edgeW\n",
    "\t\tv, d = vW\n",
    "\t\treturn (v, self.beta * (self.r[u] / d))\n",
    "\n",
    "\tdef update(self, r):\n",
    "\t\tfor v, val in r:\n",
    "\t\t\tself.r[v] = val + self.nBeta / 100\n",
    "\t\treturn"
   ]
  },
  {
   "cell_type": "code",
   "execution_count": 2,
   "metadata": {},
   "outputs": [],
   "source": [
    "data = sc.textFile('/user/hz333/data/hw2/Q3/graph.txt')\n",
    "\n",
    "#get edge (u, v)\n",
    "line = data.map(getEdgeCount)\n",
    "line = line.reduceByKey(count) #delete this line if all multiple edges are effective\n",
    "edge = line.map(getEdge)\n",
    "\n",
    "#get out degree\n",
    "uCount = edge.map(getUCount)\n",
    "uCount = uCount.reduceByKey(count)\n",
    "uCount = uCount.collect()\n",
    "getWeight = weight(uCount)\n",
    "\n",
    "#get matrix (u, (v, degree))\n",
    "edgeW = edge.map(getWeight)\n",
    "\n",
    "#init r\n",
    "r = [(str(i), 1 / 100) for i in range(1, 101)]\n",
    "move = trans(r)\n",
    "\n",
    "#loop\n",
    "for i in range(40):\n",
    "\tr = edgeW.map(move)\n",
    "\tr = r.reduceByKey(count)\n",
    "\tr = r.collect()\n",
    "\tmove.update(r)"
   ]
  },
  {
   "cell_type": "code",
   "execution_count": 3,
   "metadata": {},
   "outputs": [
    {
     "name": "stdout",
     "output_type": "stream",
     "text": [
      "53: 0.03373\n",
      "14: 0.03217\n",
      "40: 0.03163\n",
      "1: 0.02801\n",
      "27: 0.02772\n",
      "\n",
      "85: 0.00141\n",
      "59: 0.00167\n",
      "81: 0.00170\n",
      "37: 0.00181\n",
      "89: 0.00192"
     ]
    }
   ],
   "source": [
    "r.sort(key = lambda vW: (vW[1], vW[0]), reverse = True)\n",
    "for i in range(5):\n",
    "\tprint('%s: %.5f' %(r[i][0], r[i][1]))\n",
    "print('')\n",
    "\n",
    "r.reverse()\n",
    "for i in range(5):\n",
    "\tprint('%s: %.5f' %(r[i][0], r[i][1]))\n",
    "print('')"
   ]
  }
 ],
 "metadata": {
  "kernelspec": {
   "display_name": "PySpark",
   "language": "",
   "name": "pysparkkernel"
  },
  "language_info": {
   "codemirror_mode": {
    "name": "python",
    "version": 2
   },
   "mimetype": "text/x-python",
   "name": "pyspark",
   "pygments_lexer": "python2"
  }
 },
 "nbformat": 4,
 "nbformat_minor": 2
}
