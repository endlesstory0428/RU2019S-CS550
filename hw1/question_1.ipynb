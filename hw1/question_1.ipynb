{
 "cells": [
  {
   "cell_type": "code",
   "execution_count": 1,
   "metadata": {},
   "outputs": [
    {
     "name": "stdout",
     "output_type": "stream",
     "text": [
      "Starting Spark application\n"
     ]
    },
    {
     "data": {
      "text/html": [
       "<table>\n",
       "<tr><th>ID</th><th>YARN Application ID</th><th>Kind</th><th>State</th><th>Spark UI</th><th>Driver log</th><th>Current session?</th></tr><tr><td>631</td><td>application_1548171028063_0175</td><td>pyspark</td><td>idle</td><td><a target=\"_blank\" href=\"http://data-services3.cs.rutgers.edu:8088/proxy/application_1548171028063_0175/\">Link</a></td><td><a target=\"_blank\" href=\"http://data1.cs.rutgers.edu:8042/node/containerlogs/container_e67_1548171028063_0175_01_000001/hz333\">Link</a></td><td>✔</td></tr></table>"
      ],
      "text/plain": [
       "<IPython.core.display.HTML object>"
      ]
     },
     "metadata": {},
     "output_type": "display_data"
    },
    {
     "name": "stdout",
     "output_type": "stream",
     "text": [
      "SparkSession available as 'spark'.\n"
     ]
    }
   ],
   "source": [
    "import itertools\n",
    "\n",
    "#split\n",
    "def splitLine(line):\n",
    "\tu, fs = line.split('\\t')\n",
    "\tfList = fs.split(',')\n",
    "\treturn (u, fList)\n",
    "\n",
    "def checkValLine(line):\n",
    "\tu, fList = line\n",
    "\treturn fList[0] != ''\n",
    "\n",
    "#get friends\n",
    "def getDirF(line):\n",
    "\tu, fList = line\n",
    "\tdirF = [((u, f), float('-inf')) for f in fList]\n",
    "\treturn dirF\n",
    "\n",
    "def getMutF(line):\n",
    "\tu, fList = line\n",
    "\tmutF = [(mutFPair, 1.) for mutFPair in itertools.permutations(fList, 2)]\n",
    "\treturn mutF\n",
    "\n",
    "#get line\n",
    "def getWeight(tW, nW):\n",
    "\treturn tW + nW\n",
    "\n",
    "def checkWeight(data):\n",
    "\tpair, weight = data\n",
    "\treturn weight > 0\n",
    "\n",
    "def transform(data):\n",
    "\tpair, weight = data\n",
    "\tu, v = pair\n",
    "\treturn (u, (weight, v))\n",
    "\n",
    "#output\n",
    "def getRecList(data):\n",
    "\tu, rec = data\n",
    "\trec.sort(key = lambda rec: (-rec[0], int(rec[1])))\n",
    "\trec = [v[1] for v in rec[: 10]]\n",
    "\treturn (u, rec)\n",
    "\n",
    "def getResLine(data):\n",
    "\tu , rec = data\n",
    "\tline = u + '\\t' + ','.join(v for v in rec)\n",
    "\treturn line\n",
    "\n",
    "def getAllUser(line):\n",
    "\tu, fList = line\n",
    "\treturn (u, [])\n",
    "\n",
    "def getAllRec(tL, nL):\n",
    "\ttL.extend(nL)\n",
    "\treturn tL"
   ]
  },
  {
   "cell_type": "code",
   "execution_count": 2,
   "metadata": {},
   "outputs": [],
   "source": [
    "data = sc.textFile('/user/hz333/data/hw1/Q1/soc-LiveJournal1Adj.txt')\n",
    "line = data.map(splitLine)\n",
    "\n",
    "#get (u, [friend])\n",
    "valLine = line.filter(checkValLine)\n",
    "\n",
    "#get ((u, v), -inf)\n",
    "dirF = valLine.flatMap(getDirF)\n",
    "#get ((v, w), 1)\n",
    "mutF = valLine.flatMap(getMutF)\n",
    "\n",
    "pair = dirF.union(mutF)\n",
    "\n",
    "#get (pair, weight)\n",
    "pair = pair.reduceByKey(getWeight)\n",
    "pair = pair.filter(checkWeight)\n",
    "\n",
    "#get (v, (weight, v))\n",
    "recList = pair.map(transform)\n",
    "\n",
    "#get (v, [(recommend)])\n",
    "recList = recList.groupByKey()\n",
    "recList = recList.mapValues(list)\n",
    "recList = recList.map(getRecList)\n",
    "\n",
    "#get (u, [])\n",
    "userList = line.map(getAllUser)\n",
    "\n",
    "#get (u, [recommend])\n",
    "recList = recList.union(userList)\n",
    "recList = recList.reduceByKey(getAllRec)\n",
    "\n",
    "#str(data)\n",
    "resLine = recList.map(getResLine)\n",
    "\n",
    "resLine = resLine.collect()\n",
    "sc.parallelize(resLine).repartition(1).saveAsTextFile('/user/hz333/data/hw1/Q1/result')"
   ]
  },
  {
   "cell_type": "code",
   "execution_count": 3,
   "metadata": {},
   "outputs": [],
   "source": [
    "sc.stop()"
   ]
  }
 ],
 "metadata": {
  "kernelspec": {
   "display_name": "PySpark",
   "language": "",
   "name": "pysparkkernel"
  },
  "language_info": {
   "codemirror_mode": {
    "name": "python",
    "version": 2
   },
   "mimetype": "text/x-python",
   "name": "pyspark",
   "pygments_lexer": "python2"
  }
 },
 "nbformat": 4,
 "nbformat_minor": 2
}
